{
 "cells": [
  {
   "cell_type": "markdown",
   "id": "439d5a87",
   "metadata": {},
   "source": [
    "# Import modules"
   ]
  },
  {
   "cell_type": "code",
   "execution_count": 1,
   "id": "a2e79f9a",
   "metadata": {},
   "outputs": [],
   "source": [
    "import pandas as pd\n",
    "from Constraints import *"
   ]
  },
  {
   "cell_type": "markdown",
   "id": "0e1282ed",
   "metadata": {},
   "source": [
    "# About Constraints.py"
   ]
  },
  {
   "cell_type": "markdown",
   "id": "4e6c07cd",
   "metadata": {},
   "source": [
    "__Constraints.Constraint__<br />\n",
    "Populate constraint objects with name, setback, constraint feature class, where clause, and constraint class ie Be Aware, Minimize, Avoid. ALso hold paths to intermediate data in constraints processing<br />\n",
    "\n",
    "These will be used as input in ConstraintsModel below"
   ]
  },
  {
   "cell_type": "code",
   "execution_count": 2,
   "id": "0e2bbae5",
   "metadata": {},
   "outputs": [],
   "source": [
    "Constraint?"
   ]
  },
  {
   "cell_type": "markdown",
   "id": "204d5dea",
   "metadata": {},
   "source": [
    "__Init signature:__ Constraint(name, setback, feature_class, where_clause, constraint_class)<br />\n",
    "__Docstring:__      Holds data related to the constraint including intermediary data paths like projected and clipped data.<br />\n",
    "__File:__           s:\\toolsandresources\\scripts\\constraintsanalysis\\constraints.py<br />"
   ]
  },
  {
   "cell_type": "markdown",
   "id": "7e2b4860",
   "metadata": {},
   "source": [
    "__Constraints.ConstraintModel__<br />\n",
    "Processes constraints uses a list containing Constraint objects. Creates intermediate gdbs for projected, clipped etc data. <br />\n",
    "\n",
    "These will be used as input in ConstraintsModel below"
   ]
  },
  {
   "cell_type": "code",
   "execution_count": 3,
   "id": "40e46031",
   "metadata": {},
   "outputs": [],
   "source": [
    "ConstraintsModel?"
   ]
  },
  {
   "cell_type": "markdown",
   "id": "6bf18025",
   "metadata": {},
   "source": [
    "\n",
    "__Init signature:__<br />\n",
    "ConstraintsModel(\n",
    "    sites_fc, \n",
    "    constraints, \n",
    "    output_folder, \n",
    "    output_epsg=3400, \n",
    "    overwrite_outputs=True\n",
    ")<br /><br />\n",
    "__Docstring:__     <br />\n",
    "Processes constraints uses a list containing Constraint objects<br />\n",
    "Creates intermediate gdbs for projected, clipped etc data<br />\n",
    "__File:__           s:\\toolsandresources\\scripts\\constraintsanalysis\\constraints.py<br />"
   ]
  },
  {
   "cell_type": "markdown",
   "id": "df2c9fa7",
   "metadata": {},
   "source": [
    "# Load constraints parameters from excel"
   ]
  },
  {
   "cell_type": "markdown",
   "id": "0e672145",
   "metadata": {},
   "source": [
    "These will be project specific"
   ]
  },
  {
   "cell_type": "code",
   "execution_count": 6,
   "id": "415dd8d4",
   "metadata": {
    "scrolled": false
   },
   "outputs": [
    {
     "data": {
      "text/html": [
       "<div>\n",
       "<style scoped>\n",
       "    .dataframe tbody tr th:only-of-type {\n",
       "        vertical-align: middle;\n",
       "    }\n",
       "\n",
       "    .dataframe tbody tr th {\n",
       "        vertical-align: top;\n",
       "    }\n",
       "\n",
       "    .dataframe thead th {\n",
       "        text-align: right;\n",
       "    }\n",
       "</style>\n",
       "<table border=\"1\" class=\"dataframe\">\n",
       "  <thead>\n",
       "    <tr style=\"text-align: right;\">\n",
       "      <th></th>\n",
       "      <th>ConstraintName</th>\n",
       "      <th>Constraint Class</th>\n",
       "      <th>BuildableArea_SecondayInfrastructure Setback</th>\n",
       "      <th>BuildableArea_Turbine Setback</th>\n",
       "      <th>Data Source</th>\n",
       "      <th>where</th>\n",
       "    </tr>\n",
       "  </thead>\n",
       "  <tbody>\n",
       "    <tr>\n",
       "      <th>30</th>\n",
       "      <td>Intermittent Watercourse</td>\n",
       "      <td>Be Aware</td>\n",
       "      <td>45.0</td>\n",
       "      <td>126.5</td>\n",
       "      <td>S:\\Client\\ATCO_EnPower\\FleetNorthWind\\100_Work...</td>\n",
       "      <td></td>\n",
       "    </tr>\n",
       "    <tr>\n",
       "      <th>31</th>\n",
       "      <td>Small Permenant Watercourse</td>\n",
       "      <td>Be Aware</td>\n",
       "      <td>45.0</td>\n",
       "      <td>126.5</td>\n",
       "      <td>S:\\Client\\ATCO_EnPower\\FleetNorthWind\\100_Work...</td>\n",
       "      <td></td>\n",
       "    </tr>\n",
       "    <tr>\n",
       "      <th>33</th>\n",
       "      <td>Named Lake</td>\n",
       "      <td>Avoid</td>\n",
       "      <td>1000.0</td>\n",
       "      <td>1081.5</td>\n",
       "      <td>S:\\Client\\ATCO_EnPower\\FleetNorthWind\\100_Work...</td>\n",
       "      <td></td>\n",
       "    </tr>\n",
       "    <tr>\n",
       "      <th>34</th>\n",
       "      <td>Wetlands Class 3 4 5</td>\n",
       "      <td>Avoid</td>\n",
       "      <td>0.0</td>\n",
       "      <td>0.0</td>\n",
       "      <td>S:\\Client\\ATCO_EnPower\\FleetNorthWind\\100_Work...</td>\n",
       "      <td>WaterPermanence IN ('III', 'IV', 'V', 'VI') Or...</td>\n",
       "    </tr>\n",
       "    <tr>\n",
       "      <th>35</th>\n",
       "      <td>Wetlands Class 3 4 5 Setbacks</td>\n",
       "      <td>Minimize</td>\n",
       "      <td>100.0</td>\n",
       "      <td>181.5</td>\n",
       "      <td>S:\\Client\\ATCO_EnPower\\FleetNorthWind\\100_Work...</td>\n",
       "      <td>WaterPermanence IN ('III', 'IV', 'V', 'VI') Or...</td>\n",
       "    </tr>\n",
       "    <tr>\n",
       "      <th>36</th>\n",
       "      <td>Wetlands ‐ Class 2</td>\n",
       "      <td>Be Aware</td>\n",
       "      <td>10.0</td>\n",
       "      <td>91.5</td>\n",
       "      <td>S:\\Client\\ATCO_EnPower\\FleetNorthWind\\100_Work...</td>\n",
       "      <td>WaterPermanence IN ('II')</td>\n",
       "    </tr>\n",
       "    <tr>\n",
       "      <th>37</th>\n",
       "      <td>Waterbody ‐ Class 1</td>\n",
       "      <td>Be Aware</td>\n",
       "      <td>0.0</td>\n",
       "      <td>81.5</td>\n",
       "      <td>S:\\Client\\ATCO_EnPower\\FleetNorthWind\\100_Work...</td>\n",
       "      <td>WaterPermanence IN ('I')</td>\n",
       "    </tr>\n",
       "    <tr>\n",
       "      <th>38</th>\n",
       "      <td>Native Prairie</td>\n",
       "      <td>Avoid</td>\n",
       "      <td>0.0</td>\n",
       "      <td>81.5</td>\n",
       "      <td>S:\\Client\\ATCO_EnPower\\FleetNorthWind\\100_Work...</td>\n",
       "      <td>Landcover = 'Native Grassland'</td>\n",
       "    </tr>\n",
       "    <tr>\n",
       "      <th>39</th>\n",
       "      <td>Native Prairie Setback</td>\n",
       "      <td>Be Aware</td>\n",
       "      <td>100.0</td>\n",
       "      <td>181.5</td>\n",
       "      <td>S:\\Client\\ATCO_EnPower\\FleetNorthWind\\100_Work...</td>\n",
       "      <td>Landcover = 'Native Grassland'</td>\n",
       "    </tr>\n",
       "    <tr>\n",
       "      <th>40</th>\n",
       "      <td>Coulee / Valley Break</td>\n",
       "      <td>Avoid</td>\n",
       "      <td>100.0</td>\n",
       "      <td>181.5</td>\n",
       "      <td>S:\\Client\\ATCO_EnPower\\FleetNorthWind\\100_Work...</td>\n",
       "      <td>Landcover = 'Coulee'</td>\n",
       "    </tr>\n",
       "    <tr>\n",
       "      <th>42</th>\n",
       "      <td>Wildlife Features</td>\n",
       "      <td>Avoid</td>\n",
       "      <td>0.0</td>\n",
       "      <td>81.5</td>\n",
       "      <td>S:\\Client\\ATCO_EnPower\\FleetNorthWind\\100_Work...</td>\n",
       "      <td>Species NOT IN ('CORA')</td>\n",
       "    </tr>\n",
       "  </tbody>\n",
       "</table>\n",
       "</div>"
      ],
      "text/plain": [
       "                   ConstraintName Constraint Class  \\\n",
       "30       Intermittent Watercourse         Be Aware   \n",
       "31   Small Permenant Watercourse          Be Aware   \n",
       "33                     Named Lake            Avoid   \n",
       "34           Wetlands Class 3 4 5            Avoid   \n",
       "35  Wetlands Class 3 4 5 Setbacks         Minimize   \n",
       "36             Wetlands ‐ Class 2         Be Aware   \n",
       "37            Waterbody ‐ Class 1         Be Aware   \n",
       "38                 Native Prairie            Avoid   \n",
       "39         Native Prairie Setback         Be Aware   \n",
       "40          Coulee / Valley Break            Avoid   \n",
       "42              Wildlife Features            Avoid   \n",
       "\n",
       "    BuildableArea_SecondayInfrastructure Setback  \\\n",
       "30                                          45.0   \n",
       "31                                          45.0   \n",
       "33                                        1000.0   \n",
       "34                                           0.0   \n",
       "35                                         100.0   \n",
       "36                                          10.0   \n",
       "37                                           0.0   \n",
       "38                                           0.0   \n",
       "39                                         100.0   \n",
       "40                                         100.0   \n",
       "42                                           0.0   \n",
       "\n",
       "    BuildableArea_Turbine Setback  \\\n",
       "30                          126.5   \n",
       "31                          126.5   \n",
       "33                         1081.5   \n",
       "34                            0.0   \n",
       "35                          181.5   \n",
       "36                           91.5   \n",
       "37                           81.5   \n",
       "38                           81.5   \n",
       "39                          181.5   \n",
       "40                          181.5   \n",
       "42                           81.5   \n",
       "\n",
       "                                          Data Source  \\\n",
       "30  S:\\Client\\ATCO_EnPower\\FleetNorthWind\\100_Work...   \n",
       "31  S:\\Client\\ATCO_EnPower\\FleetNorthWind\\100_Work...   \n",
       "33  S:\\Client\\ATCO_EnPower\\FleetNorthWind\\100_Work...   \n",
       "34  S:\\Client\\ATCO_EnPower\\FleetNorthWind\\100_Work...   \n",
       "35  S:\\Client\\ATCO_EnPower\\FleetNorthWind\\100_Work...   \n",
       "36  S:\\Client\\ATCO_EnPower\\FleetNorthWind\\100_Work...   \n",
       "37  S:\\Client\\ATCO_EnPower\\FleetNorthWind\\100_Work...   \n",
       "38  S:\\Client\\ATCO_EnPower\\FleetNorthWind\\100_Work...   \n",
       "39  S:\\Client\\ATCO_EnPower\\FleetNorthWind\\100_Work...   \n",
       "40  S:\\Client\\ATCO_EnPower\\FleetNorthWind\\100_Work...   \n",
       "42  S:\\Client\\ATCO_EnPower\\FleetNorthWind\\100_Work...   \n",
       "\n",
       "                                                where  \n",
       "30                                                     \n",
       "31                                                     \n",
       "33                                                     \n",
       "34  WaterPermanence IN ('III', 'IV', 'V', 'VI') Or...  \n",
       "35  WaterPermanence IN ('III', 'IV', 'V', 'VI') Or...  \n",
       "36                          WaterPermanence IN ('II')  \n",
       "37                           WaterPermanence IN ('I')  \n",
       "38                     Landcover = 'Native Grassland'  \n",
       "39                     Landcover = 'Native Grassland'  \n",
       "40                               Landcover = 'Coulee'  \n",
       "42                            Species NOT IN ('CORA')  "
      ]
     },
     "execution_count": 6,
     "metadata": {},
     "output_type": "execute_result"
    }
   ],
   "source": [
    "working_folder = r'.'\n",
    "\n",
    "xl = r\".\\Example_Constraints_Processing_Parameters.xlsx\"\n",
    "constraints_df = pd.read_excel(xl, sheet_name='Table 1')\n",
    "setback_field_name = 'BuildableArea_SecondayInfrastructure Setback'\n",
    "\n",
    "# Enviro parameters\n",
    "# Filter by Category and has a datasource\n",
    "constraints_df_enviro = constraints_df[\n",
    "    (~constraints_df['Data Source'].isna()) &\n",
    "    (constraints_df['Category'] == 'Environmental') &\n",
    "    (~constraints_df[setback_field_name].isna())\n",
    "]\n",
    "\n",
    "# Clean up\n",
    "constraints_df = constraints_df[keep].fillna('')\n",
    "constraints_df_enviro = constraints_df_enviro[keep].fillna('')\n",
    "\n",
    "constraints_df_enviro"
   ]
  },
  {
   "cell_type": "markdown",
   "id": "1008eb70",
   "metadata": {},
   "source": [
    "__Populate Constraint objects with data from excel__"
   ]
  },
  {
   "cell_type": "code",
   "execution_count": 15,
   "id": "250f9d0d",
   "metadata": {},
   "outputs": [
    {
     "name": "stdout",
     "output_type": "stream",
     "text": [
      "BuildableArea_SecondayInfrastructure Setback\n",
      "{'name': 'IntermittentWatercourse', 'setback': 45.0, 'feature_class': 'S:\\\\Client\\\\ATCO_EnPower\\\\FleetNorthWind\\\\100_Working\\\\20240829_ConstraintsUpdate\\\\Constraints.gdb\\\\Intermittent_Watercourse', 'where_clause': '', 'constraint_class': 'BeAware'}\n",
      "\n",
      "{'name': 'SmallPermenantWatercourse', 'setback': 45.0, 'feature_class': 'S:\\\\Client\\\\ATCO_EnPower\\\\FleetNorthWind\\\\100_Working\\\\20240829_ConstraintsUpdate\\\\Constraints.gdb\\\\Small_Permanent_Watercourse', 'where_clause': '', 'constraint_class': 'BeAware'}\n",
      "\n",
      "{'name': 'NamedLake', 'setback': 1000.0, 'feature_class': 'S:\\\\Client\\\\ATCO_EnPower\\\\FleetNorthWind\\\\100_Working\\\\20240829_ConstraintsUpdate\\\\Constraints.gdb\\\\NamedLake_MatherReservoir', 'where_clause': '', 'constraint_class': 'Avoid'}\n",
      "\n"
     ]
    }
   ],
   "source": [
    "# ENVIRO\n",
    "constraints = []\n",
    "for index, row in constraints_df_enviro.iterrows():\n",
    "    constraints.append(\n",
    "        Constraint(\n",
    "            name=row['ConstraintName'],\n",
    "            setback=row[setback_field_name],\n",
    "            feature_class=row['Data Source'],\n",
    "            where_clause=row['where'],\n",
    "            constraint_class=row['Constraint Class']\n",
    "        )\n",
    "    )\n",
    "    \n",
    "\n",
    "# Check that data loaded correctly\n",
    "for c in constraints[:3]:\n",
    "    print(c.attributes())\n",
    "    print('')"
   ]
  },
  {
   "cell_type": "code",
   "execution_count": 16,
   "id": "61897fbf",
   "metadata": {},
   "outputs": [
    {
     "data": {
      "text/plain": [
       "{'name': 'IntermittentWatercourse',\n",
       " 'setback': 45.0,\n",
       " 'feature_class': 'S:\\\\Client\\\\ATCO_EnPower\\\\FleetNorthWind\\\\100_Working\\\\20240829_ConstraintsUpdate\\\\Constraints.gdb\\\\Intermittent_Watercourse',\n",
       " 'where_clause': '',\n",
       " 'constraint_class': 'BeAware',\n",
       " 'clip_fc': None,\n",
       " 'project_fc': None,\n",
       " 'spatialjoin_fc': None,\n",
       " 'constraint_fc': None,\n",
       " 'constraint_shp': None,\n",
       " 'constraint_setback_fc': None}"
      ]
     },
     "execution_count": 16,
     "metadata": {},
     "output_type": "execute_result"
    }
   ],
   "source": [
    "# All constraint attributes. None FC paths filled in by ConstraintsModel as processing is done\n",
    "constraints[0].__dict__"
   ]
  },
  {
   "cell_type": "markdown",
   "id": "298ab7bb",
   "metadata": {},
   "source": [
    "__Initialize ConstraintsModel__"
   ]
  },
  {
   "cell_type": "code",
   "execution_count": null,
   "id": "afe6ce80",
   "metadata": {},
   "outputs": [],
   "source": [
    "print(os.path.join(working_folder, case['folder'], 'Constraints_Enviro'))\n",
    "print(list(constraints_df_enviro))\n",
    "model = ConstraintsModel(\n",
    "    sites_fc=r'.\\Constraints.gdb\\Project_Area_Buffer_1000',\n",
    "    constraints=constraints,\n",
    "    output_folder=os.path.join(working_folder, case['folder'], 'Constraints_Enviro'),\n",
    "    output_epsg=26912,\n",
    "    overwrite_outputs=False\n",
    ")"
   ]
  },
  {
   "cell_type": "markdown",
   "id": "aca7c7ea",
   "metadata": {},
   "source": [
    "__Execute process_constraints method to apply buffers and sort constraints into gdbs__<br />\n",
    "__export_shp exports results in folders matching gdb output__"
   ]
  },
  {
   "cell_type": "code",
   "execution_count": null,
   "id": "ab3098f5",
   "metadata": {},
   "outputs": [],
   "source": [
    "# model.process_constraints()\n",
    "# model.export_shp()"
   ]
  },
  {
   "cell_type": "markdown",
   "id": "285da4a4",
   "metadata": {},
   "source": [
    "__Output Folder stucutre__<br /><br />\n",
    "├───Constraints<br />\n",
    "│   ├───gdb<br />\n",
    "│   │   ├───Avoid.gdb<br />\n",
    "│   │   ├───BeAware.gdb<br />\n",
    "│   │   └───Minimize.gdb<br />\n",
    "│   ├───shp<br />\n",
    "│   │   ├───Avoid<br />\n",
    "│   │   ├───BeAware<br />\n",
    "│   │   └───Minimize<br />\n",
    "│   └───working<br />\n",
    "│       ├───Clip.gdb<br />\n",
    "│       ├───Dissolve.gdb<br />\n",
    "│       ├───Merge.gdb<br />\n",
    "│       ├───Project.gdb<br />\n",
    "│       └───SpatialJoin.gdb<br />"
   ]
  },
  {
   "cell_type": "markdown",
   "id": "b3025e6b",
   "metadata": {},
   "source": [
    "# Combine constraints"
   ]
  },
  {
   "cell_type": "markdown",
   "id": "36a0e47a",
   "metadata": {},
   "source": [
    "Used \"S:\\ToolsAndResources\\Scripts\\ConstraintsAnalysis\\CombineConstraints.fmw\" as a template to combine constraints into non-overlapping polygons and buildable areas (no constraints)"
   ]
  },
  {
   "cell_type": "code",
   "execution_count": 2,
   "id": "de475e0c",
   "metadata": {},
   "outputs": [],
   "source": [
    "arcpy.Project_management?"
   ]
  },
  {
   "cell_type": "code",
   "execution_count": null,
   "id": "8f185a85",
   "metadata": {},
   "outputs": [],
   "source": []
  }
 ],
 "metadata": {
  "kernelspec": {
   "display_name": "Python 3 (ipykernel)",
   "language": "python",
   "name": "python3"
  },
  "language_info": {
   "codemirror_mode": {
    "name": "ipython",
    "version": 3
   },
   "file_extension": ".py",
   "mimetype": "text/x-python",
   "name": "python",
   "nbconvert_exporter": "python",
   "pygments_lexer": "ipython3",
   "version": "3.11.8"
  }
 },
 "nbformat": 4,
 "nbformat_minor": 5
}
